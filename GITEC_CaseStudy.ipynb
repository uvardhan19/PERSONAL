{
 "cells": [
  {
   "cell_type": "markdown",
   "metadata": {},
   "source": [
    "# Prototype Evaluation"
   ]
  },
  {
   "cell_type": "markdown",
   "metadata": {},
   "source": [
    "### Background:\n",
    "\n",
    "Product B is the leader in the South African market in terms of power and premiumness. However, recently the brand has been losing power, has lowered media investment and is selling less volume in last few years.\n",
    "In order to further drive penetration, premiumness and meaning for the brand, AB Inbev plans on bringing a new recipe to market.\n",
    "The goal of this study is thus to understand how the Current Recipe and new Recipe (Prototype 1 or 2) compare to each other in a direct tasting comparison, in order to assess it’s superiority.\n",
    "\n",
    "### About the Dataset:\n",
    "\n",
    "The consumer research was conducted in Cape Town among 178 consumers. \n",
    "Each consumer tasted all the 3 products and answered a questionaire consisting of 7 questions for each product. \n",
    "\n",
    "There are 3 key measures for evaluation - Drinkability, Buying intention, Product Liking and 4 additional diagnostics - Easy drinking, Refreshing, Taste liking, Aftertaste liking. \n",
    "\n",
    "Evaluation Metric for each measure has been provided in the datamap.\n",
    "\n",
    "### Objective\n",
    "\n",
    "#### Analyse the attached dataset [Full sample and Demographics (Gender & Past 4 weeks Product A consumers)] on the key measures & additional diagnostics\n",
    "#### Summarize the results and recommend which prototype should to be launched in the market in a powerpoint presentation."
   ]
  },
  {
   "cell_type": "markdown",
   "metadata": {},
   "source": [
    "Note: All data manipulations and analysis should be performed in Python only. Final submission should be this notebook(with output saved) and a presentation."
   ]
  },
  {
   "cell_type": "code",
   "execution_count": null,
   "metadata": {},
   "outputs": [],
   "source": []
  }
 ],
 "metadata": {
  "kernelspec": {
   "display_name": "Python 3",
   "language": "python",
   "name": "python3"
  },
  "language_info": {
   "codemirror_mode": {
    "name": "ipython",
    "version": 3
   },
   "file_extension": ".py",
   "mimetype": "text/x-python",
   "name": "python",
   "nbconvert_exporter": "python",
   "pygments_lexer": "ipython3",
   "version": "3.7.9"
  }
 },
 "nbformat": 4,
 "nbformat_minor": 4
}
